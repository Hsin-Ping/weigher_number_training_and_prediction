{
 "cells": [
  {
   "cell_type": "code",
   "execution_count": 1,
   "metadata": {},
   "outputs": [],
   "source": [
    "import numpy as np\n",
    "import cv2\n",
    "import glob\n",
    "from tensorflow.keras.datasets import mnist\n",
    "import pandas as pd"
   ]
  },
  {
   "cell_type": "code",
   "execution_count": 2,
   "metadata": {},
   "outputs": [],
   "source": [
    "#step1 : check the dataset shape -> ok\n",
    "data = glob.glob('./dataset/crop/*.jpg')\n",
    "for i in data:\n",
    "    img = cv2.imread(i,0)# read the data as 1 channel\n",
    "    #print(img.shape)"
   ]
  },
  {
   "cell_type": "code",
   "execution_count": 3,
   "metadata": {},
   "outputs": [],
   "source": [
    "#step2 : read the csv file\n",
    "df = pd.read_csv('./dataset/label_crop.csv')\n",
    "df.columns = [\"Y\",\"X\"]"
   ]
  },
  {
   "cell_type": "code",
   "execution_count": 4,
   "metadata": {
    "scrolled": true
   },
   "outputs": [],
   "source": [
    "# 載入 MNIST dataset\n",
    "(x_train, y_train), (x_test, y_test) = mnist.load_data()\n",
    "#print(x_train.shape,y_train.shape)\n",
    "#print(x_train[0],y_train[0])"
   ]
  },
  {
   "cell_type": "code",
   "execution_count": 5,
   "metadata": {},
   "outputs": [],
   "source": [
    "# add new data to x_train , y_train\n",
    "x_train = x_train.tolist()\n",
    "y_train = y_train.tolist()\n",
    "for idx in range(len(df)):\n",
    "    img_path = f'./dataset/crop/{df.iloc[idx][\"Y\"]}'\n",
    "    label = df.iloc[idx][\"X\"]\n",
    "    img = cv2.imread(img_path,0)\n",
    "    x_train.append(img)\n",
    "    y_train.append(label)\n",
    "x_train = np.array(x_train,dtype=np.uint8)\n",
    "y_train = np.array(y_train,dtype=np.uint8)\n",
    "#print(x_train.shape)\n",
    "#print(y_train.shape)\n",
    "#print(type(y_train[-1]))\n",
    "#print(x_train[-1].dtype)"
   ]
  },
  {
   "cell_type": "code",
   "execution_count": 6,
   "metadata": {},
   "outputs": [],
   "source": [
    "# check the last data -> img and label are both 3\n",
    "#print(x_train[-1])\n",
    "#print(y_train[-1])"
   ]
  },
  {
   "cell_type": "code",
   "execution_count": null,
   "metadata": {},
   "outputs": [],
   "source": [
    "# training the model\n",
    "TF_LITE_MODEL = './mnist.tflite'  # 要產生的 TF Lite 檔名\n",
    "SAVE_KERAS_MODEL = True  # 是否儲存 Keras 原始模型\n",
    "import autokeras as ak\n",
    "import tensorflow as tf\n",
    "# 訓練 AutoKeras 模型\n",
    "clf = ak.ImageClassifier(max_trials=1, overwrite=True)\n",
    "clf.fit(x_train, y_train, epochs=20)\n",
    "# 用測試集評估模型\n",
    "loss, accuracy = clf.evaluate(x_test, y_test)\n",
    "print(f'\\nPrediction loss: {loss:.3f}, accurcy: {accuracy*100:.3f}%\\n')\n",
    "# 匯出 Keras 模型\n",
    "model = clf.export_model()\n",
    "model.summary()\n",
    "# 儲存 Keras 模型\n",
    "if SAVE_KERAS_MODEL:\n",
    "    model.save('./mnist_model')\n",
    "# 將模型轉為 TF Lite 格式\n",
    "converter = tf.lite.TFLiteConverter.from_keras_model(model)\n",
    "# 你也可以讀取已儲存的 Keras 模型來轉換：\n",
    "# converter = tf.lite.TFLiteConverter.from_saved_model('./mnist_model')\n",
    "tflite_model = converter.convert()\n",
    "# 儲存 TF Lite 模型\n",
    "with open(TF_LITE_MODEL, 'wb') as f:\n",
    "    f.write(tflite_model)"
   ]
  },
  {
   "cell_type": "code",
   "execution_count": null,
   "metadata": {},
   "outputs": [],
   "source": []
  }
 ],
 "metadata": {
  "kernelspec": {
   "display_name": "Python 3 (ipykernel)",
   "language": "python",
   "name": "python3"
  },
  "language_info": {
   "codemirror_mode": {
    "name": "ipython",
    "version": 3
   },
   "file_extension": ".py",
   "mimetype": "text/x-python",
   "name": "python",
   "nbconvert_exporter": "python",
   "pygments_lexer": "ipython3",
   "version": "3.11.4"
  }
 },
 "nbformat": 4,
 "nbformat_minor": 4
}
